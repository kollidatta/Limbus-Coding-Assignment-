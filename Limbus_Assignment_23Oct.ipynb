{
 "cells": [
  {
   "cell_type": "markdown",
   "metadata": {},
   "source": [
    "# Limbus Assignment"
   ]
  },
  {
   "cell_type": "markdown",
   "metadata": {},
   "source": [
    "Assignment Submitted on 23-October-2020\n",
    "\n",
    "Author: Sridatta Kolli"
   ]
  },
  {
   "cell_type": "markdown",
   "metadata": {},
   "source": [
    "#importing all the necessary modules\n",
    "import numpy as np \n",
    "import os\n",
    "import copy\n",
    "from math import *\n",
    "import matplotlib.pyplot as plt\n",
    "from functools import reduce\n",
    "import pydicom\n",
    "import pandas as pd\n",
    "import scipy.spatial as ss\n"
   ]
  },
  {
   "cell_type": "code",
   "execution_count": 105,
   "metadata": {},
   "outputs": [],
   "source": [
    "#function to read each file from the path given where it collects all RT_data and CT_images into list called RT and CT\n",
    "def Load_Scan(path):\n",
    "    slices = [pydicom.dcmread(path + '\\\\' + s, force=True) for s in               \n",
    "              os.listdir(path)]\n",
    "    print(len(slices))\n",
    "    CT = []\n",
    "    RT=[]\n",
    "    for s in slices:\n",
    "        if 'SliceLocation' not in s:\n",
    "            RT.append(s)\n",
    "        else:\n",
    "            CT.append(s)\n",
    "    return RT,CT"
   ]
  },
  {
   "cell_type": "code",
   "execution_count": 106,
   "metadata": {},
   "outputs": [],
   "source": [
    "#Collecting individual scan CT_images count\n",
    "def CT_Images_Count(images, ids):\n",
    "    count = 0\n",
    "    for i in range(len(images)):\n",
    "        if ids == images[i].PatientID:\n",
    "            count= count+1\n",
    "    return count         \n",
    "        "
   ]
  },
  {
   "cell_type": "code",
   "execution_count": 107,
   "metadata": {},
   "outputs": [],
   "source": [
    "#calculating the volume of heart using ScipySpatial module\n",
    "def Volume(arr_points):\n",
    "    points = arr_points\n",
    "    hull = ss.ConvexHull(points)\n",
    "    return(hull.volume/1000)"
   ]
  },
  {
   "cell_type": "code",
   "execution_count": 108,
   "metadata": {},
   "outputs": [],
   "source": [
    "#collecting all the points from Contour Data from Index where ROIName is HEART\n",
    "def CollectingPoints(seq, index_no): \n",
    "    count = 1\n",
    "    index_no = index_no-1\n",
    "    arr_ls = seq.ROIContourSequence[index_no].ContourSequence[0].ContourData\n",
    "    arr_ls = np.array(arr_ls)\n",
    "    length = int(len(arr_ls)/3)\n",
    "    arr_ls = arr_ls.reshape((length,3))\n",
    "\n",
    "    for i in range(1,len(seq.ROIContourSequence[index_no].ContourSequence)):\n",
    "        vec = seq.ROIContourSequence[index_no].ContourSequence[i].ContourData\n",
    "        arr = np.array(vec)\n",
    "        length = int(len(arr)/3)\n",
    "        arr = arr.reshape((length,3))\n",
    "        \n",
    "        arr_ls= np.append(arr_ls,arr, axis =0)\n",
    "        count = count+1\n",
    "    volume = Volume(arr_ls)\n",
    "    print('Volume:',volume,'Count of Contour Data',count)"
   ]
  },
  {
   "cell_type": "code",
   "execution_count": 109,
   "metadata": {},
   "outputs": [
    {
     "name": "stdout",
     "output_type": "stream",
     "text": [
      "442\n"
     ]
    }
   ],
   "source": [
    "# set path and load files \n",
    "path ='C:\\\\Users\\\\kolli\\\\Desktop\\\\Limbus\\\\dicom_files\\\\dicom_files'\n",
    "RT_data,CT_images = Load_Scan(path)"
   ]
  },
  {
   "cell_type": "code",
   "execution_count": 110,
   "metadata": {},
   "outputs": [
    {
     "data": {
      "text/plain": [
       "(3, 438)"
      ]
     },
     "execution_count": 110,
     "metadata": {},
     "output_type": "execute_result"
    }
   ],
   "source": [
    "del RT_data[0]\n",
    "len(RT_data),len(CT_images)"
   ]
  },
  {
   "cell_type": "code",
   "execution_count": 111,
   "metadata": {},
   "outputs": [
    {
     "data": {
      "text/plain": [
       "['ECI002000', '12778', 'ECI003000']"
      ]
     },
     "execution_count": 111,
     "metadata": {},
     "output_type": "execute_result"
    }
   ],
   "source": [
    "#generating the patient IDs from all files given\n",
    "Patient_IDs=[]\n",
    "patient_id = []\n",
    "for i in range(len(CT_images)):\n",
    "    patient_id.append(CT_images[i].PatientID) \n",
    "Patient_IDs =list(set(patient_id))\n",
    "Patient_IDs"
   ]
  },
  {
   "cell_type": "code",
   "execution_count": 112,
   "metadata": {},
   "outputs": [],
   "source": [
    "#function Calling for collecting each scan CT_images\n",
    "Image_Count = []\n",
    "for ls in patient_IDs:\n",
    "    c = CT_Images_Count(CT_images, ls)\n",
    "    Image_Count.append(c)"
   ]
  },
  {
   "cell_type": "code",
   "execution_count": 113,
   "metadata": {},
   "outputs": [
    {
     "data": {
      "text/plain": [
       "[112, 220, 106]"
      ]
     },
     "execution_count": 113,
     "metadata": {},
     "output_type": "execute_result"
    }
   ],
   "source": [
    "#CT_images count for each individual scan\n",
    "Image_Count"
   ]
  },
  {
   "cell_type": "code",
   "execution_count": 114,
   "metadata": {},
   "outputs": [
    {
     "name": "stdout",
     "output_type": "stream",
     "text": [
      "0\n",
      "Volume: 584.0180498694999 Count of Contour Data 33\n",
      "1\n",
      "Volume: 462.6174827750001 Count of Contour Data 25\n",
      "2\n",
      "Volume: 637.2799236839992 Count of Contour Data 42\n"
     ]
    }
   ],
   "source": [
    "#finally volume calculation at the required index and ROIName\n",
    "for i in range(0,len(RT_data)):\n",
    "    data = RT_data[i]\n",
    "    print(i)\n",
    "    for j in range(len(data.StructureSetROISequence)):\n",
    "        if (data.StructureSetROISequence[j].ROIName == 'HEART'):\n",
    "            num = seq.StructureSetROISequence[1].ROINumber\n",
    "            CollectingPoints(data,num)\n",
    "            "
   ]
  },
  {
   "cell_type": "code",
   "execution_count": 115,
   "metadata": {},
   "outputs": [],
   "source": [
    "import pandas as pd\n",
    "import ipympl as ipv\n",
    "\n",
    "csvData = pd.read_csv('structure3.csv')\n",
    "X, Y, Z = csvData.iloc[:,0].values, csvData.iloc[:,1].values, csvData.iloc[:,2].values"
   ]
  },
  {
   "cell_type": "code",
   "execution_count": 116,
   "metadata": {},
   "outputs": [
    {
     "data": {
      "application/vnd.jupyter.widget-view+json": {
       "model_id": "6c352cd91a1e4a8ca73c99df883cdba3",
       "version_major": 2,
       "version_minor": 0
      },
      "text/plain": [
       "Canvas(toolbar=Toolbar(toolitems=[('Home', 'Reset original view', 'home', 'home'), ('Back', 'Back to previous …"
      ]
     },
     "metadata": {},
     "output_type": "display_data"
    }
   ],
   "source": [
    "# Plot X,Y,Z\n",
    "\n",
    "fig = plt.figure(figsize= (10, 10))\n",
    "ax = fig.add_subplot(1,1,1, projection='3d')\n",
    "#ax.plot_trisurf(X, Y, Z, color='white', edgecolors='red', alpha=0.5)\n",
    "\n",
    "ax.plot(X, Y, Z, c='red')\n",
    "plt.show()"
   ]
  }
 ],
 "metadata": {
  "kernelspec": {
   "display_name": "Python 3",
   "language": "python",
   "name": "python3"
  },
  "language_info": {
   "codemirror_mode": {
    "name": "ipython",
    "version": 3
   },
   "file_extension": ".py",
   "mimetype": "text/x-python",
   "name": "python",
   "nbconvert_exporter": "python",
   "pygments_lexer": "ipython3",
   "version": "3.8.3"
  }
 },
 "nbformat": 4,
 "nbformat_minor": 4
}
